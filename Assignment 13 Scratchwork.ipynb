{
 "cells": [
  {
   "cell_type": "code",
   "execution_count": 5,
   "metadata": {
    "collapsed": false
   },
   "outputs": [
    {
     "name": "stdout",
     "output_type": "stream",
     "text": [
      "Writing /Users/akunas/Library/Jupyter/kernels/pyspark/kernel.json\n"
     ]
    }
   ],
   "source": [
    "%%file ~/Library/Jupyter/kernels/pyspark/kernel.json\n",
    "{\n",
    "    \"display_name\": \"PySpark (Spark 2.0.0)\",\n",
    "    \"language\": \"python\",\n",
    "    \"argv\": [\n",
    "        \"/Users/dmeng/anaconda3/bin/python3\",\n",
    "        \"-m\",\n",
    "        \"ipykernel\",\n",
    "        \"--profile=pyspark\",\n",
    "        \"-f\",\n",
    "        \"{connection_file}\"\n",
    "    ],\n",
    "    \"env\": {\n",
    "        \"CAPTURE_STANDARD_OUT\": \"true\",\n",
    "        \"CAPTURE_STANDARD_ERR\": \"true\",\n",
    "        \"SEND_EMPTY_OUTPUT\": \"false\",\n",
    "        \"SPARK_HOME\": \"/usr/local/Cellar/apache-spark/2.0.0/libexec/\"\n",
    "    }\n",
    "}"
   ]
  },
  {
   "cell_type": "code",
   "execution_count": 9,
   "metadata": {
    "collapsed": false
   },
   "outputs": [
    {
     "name": "stdout",
     "output_type": "stream",
     "text": [
      "Overwriting /Users/akunas/Library/Jupyter/kernels/pyspark/kernel.json\n"
     ]
    }
   ],
   "source": [
    "%%file ~/Library/Jupyter/kernels/pyspark/kernel.json\n",
    "{\n",
    "    \"display_name\": \"PySpark (Spark 2.0.0)\",\n",
    "    \"language\": \"python\",\n",
    "    \"argv\": [\n",
    "        \"/Users/akunas/anaconda3/bin/python3\",\n",
    "        \"-m\",\n",
    "        \"ipykernel\",\n",
    "        \"--profile=pyspark\",\n",
    "        \"-f\",\n",
    "        \"{connection_file}\"\n",
    "    ],\n",
    "    \"env\": {\n",
    "        \"CAPTURE_STANDARD_OUT\": \"true\",\n",
    "        \"CAPTURE_STANDARD_ERR\": \"true\",\n",
    "        \"SEND_EMPTY_OUTPUT\": \"false\",\n",
    "        \"SPARK_HOME\": \"/Users/akunas/Documents/advpython/spark-2.1.1-bin-hadoop2.7/bin/\"\n",
    "    }\n",
    "}"
   ]
  },
  {
   "cell_type": "code",
   "execution_count": 8,
   "metadata": {
    "collapsed": false
   },
   "outputs": [
    {
     "ename": "ImportError",
     "evalue": "No module named 'pyspark'",
     "output_type": "error",
     "traceback": [
      "\u001b[0;31m---------------------------------------------------------------------------\u001b[0m",
      "\u001b[0;31mImportError\u001b[0m                               Traceback (most recent call last)",
      "\u001b[0;32m<ipython-input-8-ce1fbc1e7daf>\u001b[0m in \u001b[0;36m<module>\u001b[0;34m()\u001b[0m\n\u001b[0;32m----> 1\u001b[0;31m \u001b[0;32mfrom\u001b[0m \u001b[0mpyspark\u001b[0m \u001b[0;32mimport\u001b[0m \u001b[0mSparkContext\u001b[0m\u001b[0;34m\u001b[0m\u001b[0m\n\u001b[0m\u001b[1;32m      2\u001b[0m \u001b[0;32mfrom\u001b[0m \u001b[0moperator\u001b[0m \u001b[0;32mimport\u001b[0m \u001b[0madd\u001b[0m\u001b[0;34m\u001b[0m\u001b[0m\n\u001b[1;32m      3\u001b[0m \u001b[0;32mimport\u001b[0m \u001b[0mre\u001b[0m\u001b[0;34m\u001b[0m\u001b[0m\n\u001b[1;32m      4\u001b[0m \u001b[0;34m\u001b[0m\u001b[0m\n\u001b[1;32m      5\u001b[0m \u001b[0;31m# remove any non-words and split lines into separate words\u001b[0m\u001b[0;34m\u001b[0m\u001b[0;34m\u001b[0m\u001b[0m\n",
      "\u001b[0;31mImportError\u001b[0m: No module named 'pyspark'"
     ]
    }
   ],
   "source": [
    "from pyspark import SparkContext\n",
    "from operator import add\n",
    "import re\n",
    "\n",
    "# remove any non-words and split lines into separate words\n",
    "# finally, convert all words to lowercase\n",
    "def splitter(line):\n",
    "    line = re.sub(r'^\\W+|\\W+$', '', line)\n",
    "    return map(str.lower, re.split(r'\\W+', line))\n",
    "\n",
    "if __name__ == '__main__':\n",
    "\tsc = SparkContext(\"local\", \"wordcount\")\n",
    "\t\n",
    "\ttext = sc.textFile('pg2701.txt')\n",
    "\twords = text.flatMap(splitter)\n",
    "\twords_mapped = words.map(lambda x: (x,1))\n",
    "\tsorted_map = words_mapped.sortByKey()\n",
    "\tcounts = sorted_map.reduceByKey(add)\n",
    "\tprint(counts.max(lambda x: x[1]))"
   ]
  },
  {
   "cell_type": "code",
   "execution_count": 3,
   "metadata": {
    "collapsed": false
   },
   "outputs": [
    {
     "ename": "ImportError",
     "evalue": "No module named 'pyspark'",
     "output_type": "error",
     "traceback": [
      "\u001b[0;31m---------------------------------------------------------------------------\u001b[0m",
      "\u001b[0;31mImportError\u001b[0m                               Traceback (most recent call last)",
      "\u001b[0;32m<ipython-input-3-c15ae3402d12>\u001b[0m in \u001b[0;36m<module>\u001b[0;34m()\u001b[0m\n\u001b[0;32m----> 1\u001b[0;31m \u001b[0;32mimport\u001b[0m \u001b[0mpyspark\u001b[0m\u001b[0;34m\u001b[0m\u001b[0m\n\u001b[0m",
      "\u001b[0;31mImportError\u001b[0m: No module named 'pyspark'"
     ]
    }
   ],
   "source": [
    "import pyspark\n"
   ]
  },
  {
   "cell_type": "code",
   "execution_count": null,
   "metadata": {
    "collapsed": true
   },
   "outputs": [],
   "source": []
  }
 ],
 "metadata": {
  "kernelspec": {
   "display_name": "Python 3",
   "language": "python",
   "name": "python3"
  },
  "language_info": {
   "codemirror_mode": {
    "name": "ipython",
    "version": 3
   },
   "file_extension": ".py",
   "mimetype": "text/x-python",
   "name": "python",
   "nbconvert_exporter": "python",
   "pygments_lexer": "ipython3",
   "version": "3.5.2"
  }
 },
 "nbformat": 4,
 "nbformat_minor": 2
}
