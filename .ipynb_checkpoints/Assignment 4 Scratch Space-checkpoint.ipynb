{
 "cells": [
  {
   "cell_type": "markdown",
   "metadata": {},
   "source": [
    "Write a program that takes two arguments n and k and prints all binary strings of length n that contain k zero bits, one per line. The program:\n",
    "\n",
    "Must be called binary.py\n",
    "Must use the itertools module\n",
    "Must provide a function called zbits(n, k) that returns a set of strings\n",
    "Must contain adequate comments and documentation\n",
    "Run the following tests to ensure that the program is correct.\n",
    "\n",
    "import binary\n",
    "assert binary.zbits(4, 3) == {'0100', '0001', '0010', '1000'}\n",
    "assert binary.zbits(4, 1) == {'0111', '1011', '1101', '1110'}\n",
    "assert binary.zbits(5, 4) == {'00001', '00100', '01000', '10000', '00010'}\n",
    "Commit the binary.py program to the repository you used for Assignment 3."
   ]
  },
  {
   "cell_type": "code",
   "execution_count": 6,
   "metadata": {
    "collapsed": false
   },
   "outputs": [
    {
     "name": "stdout",
     "output_type": "stream",
     "text": [
      "Overwriting binary.py\n"
     ]
    }
   ],
   "source": [
    "%%file binary.py\n",
    "import itertools\n",
    "    \n",
    "def zbits(n,k):\n",
    "    \"\"\"produces all n-digit binary numbers with k zeros in it.\n",
    "    \"\"\"\n",
    "    all_ones = [\"1\"] * n\n",
    "    to_return = set()\n",
    "    for where_zeros_are in itertools.combinations(range(n), k):\n",
    "        digits = all_ones.copy()\n",
    "        for pos in where_zeros_are:\n",
    "            digits[pos] = \"0\"\n",
    "        to_return.add( \"\".join(digits) )\n",
    "    return to_return"
   ]
  },
  {
   "cell_type": "code",
   "execution_count": 7,
   "metadata": {
    "collapsed": false
   },
   "outputs": [
    {
     "data": {
      "text/plain": [
       "{'0001111111',\n",
       " '0010111111',\n",
       " '0011011111',\n",
       " '0011101111',\n",
       " '0011110111',\n",
       " '0011111011',\n",
       " '0011111101',\n",
       " '0011111110',\n",
       " '0100111111',\n",
       " '0101011111',\n",
       " '0101101111',\n",
       " '0101110111',\n",
       " '0101111011',\n",
       " '0101111101',\n",
       " '0101111110',\n",
       " '0110011111',\n",
       " '0110101111',\n",
       " '0110110111',\n",
       " '0110111011',\n",
       " '0110111101',\n",
       " '0110111110',\n",
       " '0111001111',\n",
       " '0111010111',\n",
       " '0111011011',\n",
       " '0111011101',\n",
       " '0111011110',\n",
       " '0111100111',\n",
       " '0111101011',\n",
       " '0111101101',\n",
       " '0111101110',\n",
       " '0111110011',\n",
       " '0111110101',\n",
       " '0111110110',\n",
       " '0111111001',\n",
       " '0111111010',\n",
       " '0111111100',\n",
       " '1000111111',\n",
       " '1001011111',\n",
       " '1001101111',\n",
       " '1001110111',\n",
       " '1001111011',\n",
       " '1001111101',\n",
       " '1001111110',\n",
       " '1010011111',\n",
       " '1010101111',\n",
       " '1010110111',\n",
       " '1010111011',\n",
       " '1010111101',\n",
       " '1010111110',\n",
       " '1011001111',\n",
       " '1011010111',\n",
       " '1011011011',\n",
       " '1011011101',\n",
       " '1011011110',\n",
       " '1011100111',\n",
       " '1011101011',\n",
       " '1011101101',\n",
       " '1011101110',\n",
       " '1011110011',\n",
       " '1011110101',\n",
       " '1011110110',\n",
       " '1011111001',\n",
       " '1011111010',\n",
       " '1011111100',\n",
       " '1100011111',\n",
       " '1100101111',\n",
       " '1100110111',\n",
       " '1100111011',\n",
       " '1100111101',\n",
       " '1100111110',\n",
       " '1101001111',\n",
       " '1101010111',\n",
       " '1101011011',\n",
       " '1101011101',\n",
       " '1101011110',\n",
       " '1101100111',\n",
       " '1101101011',\n",
       " '1101101101',\n",
       " '1101101110',\n",
       " '1101110011',\n",
       " '1101110101',\n",
       " '1101110110',\n",
       " '1101111001',\n",
       " '1101111010',\n",
       " '1101111100',\n",
       " '1110001111',\n",
       " '1110010111',\n",
       " '1110011011',\n",
       " '1110011101',\n",
       " '1110011110',\n",
       " '1110100111',\n",
       " '1110101011',\n",
       " '1110101101',\n",
       " '1110101110',\n",
       " '1110110011',\n",
       " '1110110101',\n",
       " '1110110110',\n",
       " '1110111001',\n",
       " '1110111010',\n",
       " '1110111100',\n",
       " '1111000111',\n",
       " '1111001011',\n",
       " '1111001101',\n",
       " '1111001110',\n",
       " '1111010011',\n",
       " '1111010101',\n",
       " '1111010110',\n",
       " '1111011001',\n",
       " '1111011010',\n",
       " '1111011100',\n",
       " '1111100011',\n",
       " '1111100101',\n",
       " '1111100110',\n",
       " '1111101001',\n",
       " '1111101010',\n",
       " '1111101100',\n",
       " '1111110001',\n",
       " '1111110010',\n",
       " '1111110100',\n",
       " '1111111000'}"
      ]
     },
     "execution_count": 7,
     "metadata": {},
     "output_type": "execute_result"
    }
   ],
   "source": [
    "import binary\n",
    "binary.zbits(10, 3)"
   ]
  },
  {
   "cell_type": "code",
   "execution_count": 8,
   "metadata": {
    "collapsed": true
   },
   "outputs": [],
   "source": [
    "import binary\n",
    "assert binary.zbits(4, 3) == {'0100', '0001', '0010', '1000'}\n",
    "assert binary.zbits(4, 1) == {'0111', '1011', '1101', '1110'}\n",
    "assert binary.zbits(5, 4) == {'00001', '00100', '01000', '10000', '00010'}"
   ]
  },
  {
   "cell_type": "code",
   "execution_count": null,
   "metadata": {
    "collapsed": true
   },
   "outputs": [],
   "source": []
  },
  {
   "cell_type": "code",
   "execution_count": null,
   "metadata": {
    "collapsed": true
   },
   "outputs": [],
   "source": []
  }
 ],
 "metadata": {
  "kernelspec": {
   "display_name": "Python 3",
   "language": "python",
   "name": "python3"
  },
  "language_info": {
   "codemirror_mode": {
    "name": "ipython",
    "version": 3
   },
   "file_extension": ".py",
   "mimetype": "text/x-python",
   "name": "python",
   "nbconvert_exporter": "python",
   "pygments_lexer": "ipython3",
   "version": "3.5.2"
  }
 },
 "nbformat": 4,
 "nbformat_minor": 2
}
