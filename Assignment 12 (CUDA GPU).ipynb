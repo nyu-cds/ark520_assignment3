{
 "cells": [
  {
   "cell_type": "code",
   "execution_count": 1,
   "metadata": {
    "collapsed": true
   },
   "outputs": [],
   "source": [
    "!export NUMBA_ENABLE_CUDASIM=1\n"
   ]
  },
  {
   "cell_type": "code",
   "execution_count": 1,
   "metadata": {
    "collapsed": false
   },
   "outputs": [
    {
     "ename": "SyntaxError",
     "evalue": "invalid syntax (<ipython-input-1-c60a070405d9>, line 1)",
     "output_type": "error",
     "traceback": [
      "\u001b[0;36m  File \u001b[0;32m\"<ipython-input-1-c60a070405d9>\"\u001b[0;36m, line \u001b[0;32m1\u001b[0m\n\u001b[0;31m    export NUMBA_ENABLE_CUDASIM=1 && /Users/akunas/anaconda/envs/py35/bin/jupyter_mac.command\u001b[0m\n\u001b[0m                              ^\u001b[0m\n\u001b[0;31mSyntaxError\u001b[0m\u001b[0;31m:\u001b[0m invalid syntax\n"
     ]
    }
   ],
   "source": [
    "#export NUMBA_ENABLE_CUDASIM=1 && /Users/akunas/anaconda/envs/py35/bin/jupyter_mac.command"
   ]
  },
  {
   "cell_type": "code",
   "execution_count": 2,
   "metadata": {
    "collapsed": false
   },
   "outputs": [
    {
     "name": "stdout",
     "output_type": "stream",
     "text": [
      "[ 2.  2.  2.  2.  2.  2.  2.  2.  2.  2.  2.  2.  2.  2.  2.  2.  2.  2.\n",
      "  2.  2.  2.  2.  2.  2.  2.  2.  2.  2.  2.  2.  2.  2.  2.  2.  2.  2.\n",
      "  2.  2.  2.  2.  2.  2.  2.  2.  2.  2.  2.  2.  2.  2.  2.  2.  2.  2.\n",
      "  2.  2.  2.  2.  2.  2.  2.  2.  2.  2.  2.  2.  2.  2.  2.  2.  2.  2.\n",
      "  2.  2.  2.  2.  2.  2.  2.  2.  2.  2.  2.  2.  2.  2.  2.  2.  2.  2.\n",
      "  2.  2.  2.  2.  2.  2.  2.  2.  2.  2.  2.  2.  2.  2.  2.  2.  2.  2.\n",
      "  2.  2.  2.  2.  2.  2.  2.  2.  2.  2.  2.  2.  2.  2.  2.  2.  2.  2.\n",
      "  2.  2.  2.  2.  2.  2.  2.  2.  2.  2.  2.  2.  2.  2.  2.  2.  2.  2.\n",
      "  2.  2.  2.  2.  2.  2.  2.  2.  2.  2.  2.  2.  2.  2.  2.  2.  2.  2.\n",
      "  2.  2.  2.  2.  2.  2.  2.  2.  2.  2.  2.  2.  2.  2.  2.  2.  2.  2.\n",
      "  2.  2.  2.  2.  2.  2.  2.  2.  2.  2.  2.  2.  2.  2.  2.  2.  2.  2.\n",
      "  2.  2.  2.  2.  2.  2.  2.  2.  2.  2.  2.  2.  2.  2.  2.  2.  2.  2.\n",
      "  2.  2.  2.  2.  2.  2.  2.  2.  2.  2.  2.  2.  2.  2.  2.  2.  2.  2.\n",
      "  2.  2.  2.  2.  2.  2.  2.  2.  2.  2.  2.  2.  2.  2.  2.  2.  2.  2.\n",
      "  2.  2.  2.  2.]\n"
     ]
    }
   ],
   "source": [
    "from __future__ import division\n",
    "from numba import cuda\n",
    "import numpy\n",
    "import math\n",
    "\n",
    "# CUDA kernel\n",
    "@cuda.jit\n",
    "def my_kernel(io_array):\n",
    "    pos = cuda.grid(1)\n",
    "    if pos < io_array.size:\n",
    "        io_array[pos] *= 2 # do the computation\n",
    "\n",
    "# Host code   \n",
    "data = numpy.ones(256)\n",
    "threadsperblock = 256\n",
    "blockspergrid = math.ceil(data.shape[0] / threadsperblock)\n",
    "my_kernel[blockspergrid, threadsperblock](data)\n",
    "print(data)"
   ]
  },
  {
   "cell_type": "code",
   "execution_count": 5,
   "metadata": {
    "collapsed": false
   },
   "outputs": [
    {
     "name": "stdout",
     "output_type": "stream",
     "text": [
      "[[ 2.  2.  2.  2.  2.  2.  2.  2.  2.  2.  2.  2.  2.  2.  2.  2.]\n",
      " [ 2.  2.  2.  2.  2.  2.  2.  2.  2.  2.  2.  2.  2.  2.  2.  2.]\n",
      " [ 2.  2.  2.  2.  2.  2.  2.  2.  2.  2.  2.  2.  2.  2.  2.  2.]\n",
      " [ 2.  2.  2.  2.  2.  2.  2.  2.  2.  2.  2.  2.  2.  2.  2.  2.]\n",
      " [ 2.  2.  2.  2.  2.  2.  2.  2.  2.  2.  2.  2.  2.  2.  2.  2.]\n",
      " [ 2.  2.  2.  2.  2.  2.  2.  2.  2.  2.  2.  2.  2.  2.  2.  2.]\n",
      " [ 2.  2.  2.  2.  2.  2.  2.  2.  2.  2.  2.  2.  2.  2.  2.  2.]\n",
      " [ 2.  2.  2.  2.  2.  2.  2.  2.  2.  2.  2.  2.  2.  2.  2.  2.]\n",
      " [ 2.  2.  2.  2.  2.  2.  2.  2.  2.  2.  2.  2.  2.  2.  2.  2.]\n",
      " [ 2.  2.  2.  2.  2.  2.  2.  2.  2.  2.  2.  2.  2.  2.  2.  2.]\n",
      " [ 2.  2.  2.  2.  2.  2.  2.  2.  2.  2.  2.  2.  2.  2.  2.  2.]\n",
      " [ 2.  2.  2.  2.  2.  2.  2.  2.  2.  2.  2.  2.  2.  2.  2.  2.]\n",
      " [ 2.  2.  2.  2.  2.  2.  2.  2.  2.  2.  2.  2.  2.  2.  2.  2.]\n",
      " [ 2.  2.  2.  2.  2.  2.  2.  2.  2.  2.  2.  2.  2.  2.  2.  2.]\n",
      " [ 2.  2.  2.  2.  2.  2.  2.  2.  2.  2.  2.  2.  2.  2.  2.  2.]\n",
      " [ 2.  2.  2.  2.  2.  2.  2.  2.  2.  2.  2.  2.  2.  2.  2.  2.]]\n"
     ]
    }
   ],
   "source": [
    "from __future__ import division\n",
    "from numba import cuda\n",
    "import numpy\n",
    "import math\n",
    "\n",
    "@cuda.jit\n",
    "def my_kernel_2D(io_array):\n",
    "    x, y = cuda.grid(2)\n",
    "    if x < io_array.shape[0] and y < io_array.shape[1]:\n",
    "        io_array[x,y] *= 2\n",
    " \n",
    "data = numpy.ones((16, 16))\n",
    "threadsperblock = (16, 16)\n",
    "blockspergrid_x = math.ceil(data.shape[0] / threadsperblock[0])\n",
    "blockspergrid_y = math.ceil(data.shape[1] / threadsperblock[1])\n",
    "blockspergrid = (blockspergrid_x, blockspergrid_y)\n",
    "my_kernel_2D[blockspergrid, threadsperblock](data)\n",
    "print(data)"
   ]
  },
  {
   "cell_type": "code",
   "execution_count": 9,
   "metadata": {
    "collapsed": false
   },
   "outputs": [
    {
     "data": {
      "image/png": "[encoded data removed]",
      "text/plain": [
       "<matplotlib.figure.Figure at 0x10f6f8eb8>"
      ]
     },
     "metadata": {},
     "output_type": "display_data"
    }
   ],
   "source": [
    "#\n",
    "# Simple Python program to calculate elements in the Mandelbrot set.\n",
    "#\n",
    "import numpy as np\n",
    "from pylab import imshow, show\n",
    "\n",
    "def mandel(x, y, max_iters):\n",
    "    '''\n",
    "    Given the real and imaginary parts of a complex number,\n",
    "    determine if it is a candidate for membership in the \n",
    "    Mandelbrot set given a fixed number of iterations.\n",
    "    '''\n",
    "    c = complex(x, y)\n",
    "    z = 0.0j\n",
    "    for i in range(max_iters):\n",
    "        z = z*z + c\n",
    "        if (z.real*z.real + z.imag*z.imag) >= 4:\n",
    "            return i\n",
    "            \n",
    "    return max_iters\n",
    "    \n",
    "def compute_mandel(min_x, max_x, min_y, max_y, image, iters):\n",
    "    '''\n",
    "    Calculate the mandel value for each element in the \n",
    "    image array. The real and imag variables contain a \n",
    "    value for each element of the complex space defined \n",
    "    by the X and Y boundaries (min_x, max_x) and \n",
    "    (min_y, max_y).\n",
    "    '''\n",
    "    height = image.shape[0]\n",
    "    width = image.shape[1]\n",
    "\n",
    "    pixel_size_x = (max_x - min_x) / width\n",
    "    pixel_size_y = (max_y - min_y) / height\n",
    "\n",
    "    for x in range(width):\n",
    "        real = min_x + x * pixel_size_x\n",
    "        for y in range(height):\n",
    "            imag = min_y + y * pixel_size_y\n",
    "            image[y, x] = mandel(real, imag, iters)\n",
    "\n",
    "if __name__ == '__main__':\n",
    "\timage = np.zeros((1024, 1536), dtype = np.uint8)\n",
    "\tcompute_mandel(-2.0, 1.0, -1.0, 1.0, image, 20) \n",
    "\timshow(image)\n",
    "\tshow()"
   ]
  },
  {
   "cell_type": "code",
   "execution_count": 29,
   "metadata": {
    "collapsed": false,
    "scrolled": true
   },
   "outputs": [
    {
     "data": {
      "image/png": "[encoded data removed]",
      "text/plain": [
       "<matplotlib.figure.Figure at 0x10f3fbf98>"
      ]
     },
     "metadata": {},
     "output_type": "display_data"
    }
   ],
   "source": [
    "# \n",
    "# A CUDA version to calculate the Mandelbrot set\n",
    "#\n",
    "from numba import cuda\n",
    "import numpy as np\n",
    "from pylab import imshow, show\n",
    "\n",
    "@cuda.jit(device=True)\n",
    "def mandel(x, y, max_iters):\n",
    "    '''\n",
    "    Given the real and imaginary parts of a complex number,\n",
    "    determine if it is a candidate for membership in the \n",
    "    Mandelbrot set given a fixed number of iterations.\n",
    "    '''\n",
    "    c = complex(x, y)\n",
    "    z = 0.0j\n",
    "    for i in range(max_iters):\n",
    "        z = z*z + c\n",
    "        if (z.real*z.real + z.imag*z.imag) >= 4:\n",
    "            return i\n",
    "\n",
    "    return max_iters\n",
    "\n",
    "@cuda.jit\n",
    "def compute_mandel(min_x, max_x, min_y, max_y, image, iters):\n",
    "    '''\n",
    "    This function is called once per block.  Then I manually iterate threads.\n",
    "    Because the blockdimy*griddimy != 1536, each block (and each thread within each block)\n",
    "    will be responsible for more than one cell\n",
    "    '''\n",
    "    start_row, start_col = cuda.grid(2)\n",
    "    \n",
    "    # Thread id in a 1D block\n",
    "    tx, ty = cuda.threadIdx.x, cuda.threadIdx.y\n",
    "    # Block id in a 1D grid\n",
    "    bx, by = cuda.blockIdx.x, cuda.blockIdx.y\n",
    "    # Block width, i.e. number of threads per block\n",
    "    bw, bh = cuda.blockDim.x, cuda.blockDim.y\n",
    "    # Grid width\n",
    "    gw, gh = cuda.gridDim.x, cuda.gridDim.y\n",
    "\n",
    "    # Compute flattened index inside the array    \n",
    "\n",
    "    height = image.shape[0]\n",
    "    width = image.shape[1]\n",
    "    \n",
    "    # Each row is divided into 32 blocks of 32 threads\n",
    "    # Each column is divided into 16 blocks of 8 threads\n",
    "    \n",
    "    cols_per_thread = math.ceil( width  / (gw * bw) )\n",
    "    rows_per_thread = math.ceil( height / (gh * bh) )\n",
    "    \n",
    "    min_col = (bx * bw + tx) * cols_per_thread\n",
    "    min_row = (by * bh + ty) * rows_per_thread\n",
    "\n",
    "    pixel_size_x = (max_x - min_x) / width\n",
    "    pixel_size_y = (max_y - min_y) / height\n",
    "\n",
    "    for x in range(min_col, min_col + cols_per_thread):\n",
    "        real = min_x + x * pixel_size_x\n",
    "        for y in range(min_row, min_row + rows_per_thread):\n",
    "            imag = min_y + y * pixel_size_y\n",
    "            if y < image.shape[0] and x < image.shape[1]:\n",
    "                image[y, x] = mandel(real, imag, iters)\n",
    "\n",
    "    ### YOUR CODE HERE\n",
    "    \n",
    "if __name__ == '__main__':\n",
    "    image = np.zeros((1024, 1536), dtype = np.uint8)\n",
    "    blockdim = (32, 8)\n",
    "    griddim = (32, 16)\n",
    "\n",
    "    image_global_mem = cuda.to_device(image)\n",
    "    compute_mandel[griddim, blockdim](-2.0, 1.0, -1.0, 1.0, image_global_mem, 20) \n",
    "    image_global_mem.copy_to_host()\n",
    "    imshow(image)\n",
    "    show()\n"
   ]
  },
  {
   "cell_type": "code",
   "execution_count": 31,
   "metadata": {
    "collapsed": false
   },
   "outputs": [
    {
     "name": "stdout",
     "output_type": "stream",
     "text": [
      "Writing mandelbrot_gpu.py\n"
     ]
    }
   ],
   "source": [
    "%%file mandelbrot_gpu.py\n",
    "\n",
    "# \n",
    "# A CUDA version to calculate the Mandelbrot set\n",
    "#\n",
    "from numba import cuda\n",
    "import numpy as np\n",
    "from pylab import imshow, show\n",
    "\n",
    "@cuda.jit(device=True)\n",
    "def mandel(x, y, max_iters):\n",
    "    '''\n",
    "    Given the real and imaginary parts of a complex number,\n",
    "    determine if it is a candidate for membership in the \n",
    "    Mandelbrot set given a fixed number of iterations.\n",
    "    '''\n",
    "    c = complex(x, y)\n",
    "    z = 0.0j\n",
    "    for i in range(max_iters):\n",
    "        z = z*z + c\n",
    "        if (z.real*z.real + z.imag*z.imag) >= 4:\n",
    "            return i\n",
    "\n",
    "    return max_iters\n",
    "\n",
    "@cuda.jit\n",
    "def compute_mandel(min_x, max_x, min_y, max_y, image, iters):\n",
    "    '''\n",
    "    This function is called once per block.  Then I manually iterate threads.\n",
    "    Because the blockdimy*griddimy != 1536, each block (and each thread within each block)\n",
    "    will be responsible for more than one cell\n",
    "    '''\n",
    "    start_row, start_col = cuda.grid(2)\n",
    "    \n",
    "    # Thread id in a 1D block\n",
    "    tx, ty = cuda.threadIdx.x, cuda.threadIdx.y\n",
    "    # Block id in a 1D grid\n",
    "    bx, by = cuda.blockIdx.x, cuda.blockIdx.y\n",
    "    # Block width, i.e. number of threads per block\n",
    "    bw, bh = cuda.blockDim.x, cuda.blockDim.y\n",
    "    # Grid width\n",
    "    gw, gh = cuda.gridDim.x, cuda.gridDim.y\n",
    "\n",
    "    # Compute flattened index inside the array    \n",
    "\n",
    "    height = image.shape[0]\n",
    "    width = image.shape[1]\n",
    "    \n",
    "    # Each row is divided into 32 blocks of 32 threads\n",
    "    # Each column is divided into 16 blocks of 8 threads\n",
    "    \n",
    "    cols_per_thread = math.ceil( width  / (gw * bw) )\n",
    "    rows_per_thread = math.ceil( height / (gh * bh) )\n",
    "    \n",
    "    min_col = (bx * bw + tx) * cols_per_thread\n",
    "    min_row = (by * bh + ty) * rows_per_thread\n",
    "\n",
    "    pixel_size_x = (max_x - min_x) / width\n",
    "    pixel_size_y = (max_y - min_y) / height\n",
    "\n",
    "    for x in range(min_col, min_col + cols_per_thread):\n",
    "        real = min_x + x * pixel_size_x\n",
    "        for y in range(min_row, min_row + rows_per_thread):\n",
    "            imag = min_y + y * pixel_size_y\n",
    "            if y < image.shape[0] and x < image.shape[1]:\n",
    "                image[y, x] = mandel(real, imag, iters)\n",
    "\n",
    "    ### YOUR CODE HERE\n",
    "    \n",
    "if __name__ == '__main__':\n",
    "    image = np.zeros((1024, 1536), dtype = np.uint8)\n",
    "    blockdim = (32, 8)\n",
    "    griddim = (32, 16)\n",
    "\n",
    "    image_global_mem = cuda.to_device(image)\n",
    "    compute_mandel[griddim, blockdim](-2.0, 1.0, -1.0, 1.0, image_global_mem, 20) \n",
    "    image_global_mem.copy_to_host()\n",
    "    imshow(image)\n",
    "    show()\n"
   ]
  },
  {
   "cell_type": "code",
   "execution_count": null,
   "metadata": {
    "collapsed": true
   },
   "outputs": [],
   "source": []
  }
 ],
 "metadata": {
  "kernelspec": {
   "display_name": "Python 3",
   "language": "python",
   "name": "python3"
  },
  "language_info": {
   "codemirror_mode": {
    "name": "ipython",
    "version": 3
   },
   "file_extension": ".py",
   "mimetype": "text/x-python",
   "name": "python",
   "nbconvert_exporter": "python",
   "pygments_lexer": "ipython3",
   "version": "3.5.2"
  }
 },
 "nbformat": 4,
 "nbformat_minor": 2
}
