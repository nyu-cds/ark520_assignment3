{
 "cells": [
  {
   "cell_type": "markdown",
   "metadata": {},
   "source": [
    "# Assignment 10 scratch space"
   ]
  },
  {
   "cell_type": "code",
   "execution_count": 1,
   "metadata": {
    "collapsed": false
   },
   "outputs": [
    {
     "name": "stdout",
     "output_type": "stream",
     "text": [
      "Overwriting ../testing_mpi.py\n"
     ]
    }
   ],
   "source": [
    "%%file ../testing_mpi.py\n",
    "from mpi4py import MPI\n",
    "\n",
    "comm = MPI.COMM_WORLD\n",
    "size = comm.Get_size()\n",
    "rank = comm.Get_rank()\n",
    "print('size=%d, rank=%d' % (size, rank))"
   ]
  },
  {
   "cell_type": "code",
   "execution_count": 5,
   "metadata": {
    "collapsed": false
   },
   "outputs": [
    {
     "name": "stdout",
     "output_type": "stream",
     "text": [
      "size=4, rank=0\r\n",
      "size=4, rank=2\r\n",
      "size=4, rank=1\r\n",
      "size=4, rank=3\r\n"
     ]
    }
   ],
   "source": [
    "!mpiexec -n 4 python ../testing_mpi.py"
   ]
  },
  {
   "cell_type": "code",
   "execution_count": 12,
   "metadata": {
    "collapsed": false
   },
   "outputs": [
    {
     "name": "stdout",
     "output_type": "stream",
     "text": [
      "Overwriting ../mpi2.py\n"
     ]
    }
   ],
   "source": [
    "%%file ../mpi2.py\n",
    "from mpi4py import MPI\n",
    "rank = MPI.COMM_WORLD.Get_rank()\n",
    "\n",
    "a = 6.0\n",
    "b = 3.0\n",
    "if rank == 0:\n",
    "        print(a + b)\n",
    "if rank == 1:\n",
    "        print(a * b)\n",
    "if rank == 2:\n",
    "        print(max(a,b))\n",
    "        \n",
    "print(\"end of MPI\" + str(rank))"
   ]
  },
  {
   "cell_type": "code",
   "execution_count": 13,
   "metadata": {
    "collapsed": false
   },
   "outputs": [
    {
     "name": "stdout",
     "output_type": "stream",
     "text": [
      "9.0\r\n",
      "end of MPI0\r\n",
      "18.0\r\n",
      "end of MPI1\r\n",
      "6.0\r\n",
      "end of MPI2\r\n",
      "end of MPI3\r\n"
     ]
    }
   ],
   "source": [
    "!mpiexec -n 4 python ../mpi2.py"
   ]
  },
  {
   "cell_type": "code",
   "execution_count": 54,
   "metadata": {
    "collapsed": false
   },
   "outputs": [
    {
     "name": "stdout",
     "output_type": "stream",
     "text": [
      "Overwriting ../mpi3.py\n"
     ]
    }
   ],
   "source": [
    "%%file ../mpi3.py\n",
    "import numpy\n",
    "from mpi4py import MPI\n",
    "comm = MPI.COMM_WORLD\n",
    "rank = comm.Get_rank()\n",
    "\n",
    "randNum = numpy.zeros(1)\n",
    "m = [0]\n",
    "        \n",
    "\n",
    "if rank == 0:\n",
    "        print(\"Process\", rank, \"before receiving has the number\", randNum[0])\n",
    "        comm.Recv(randNum, source=1)\n",
    "        print(\"Process\", rank, \"received the number\", randNum[0])\n",
    "        randNum *= 2\n",
    "        comm.Send(randNum*10, dest=1)\n",
    "\n",
    "if rank == 1:\n",
    "        randNum = numpy.random.random_sample(1)\n",
    "        print(\"Process\", rank, \"drew the number\", randNum[0])\n",
    "        comm.Send(randNum, dest=0)\n",
    "        m = numpy.zeros(1)\n",
    "        comm.Recv(m, source=0)\n",
    "        print(\"Process\", rank, \"now has the number\", m)"
   ]
  },
  {
   "cell_type": "code",
   "execution_count": 55,
   "metadata": {
    "collapsed": false
   },
   "outputs": [
    {
     "name": "stdout",
     "output_type": "stream",
     "text": [
      "Process 0 before receiving has the number 0.0\r\n",
      "Process 1 drew the number 0.981705310531\r\n",
      "Process 0 received the number 0.981705310531\r\n",
      "Process 1 now has the number [ 19.63410621]\r\n"
     ]
    }
   ],
   "source": [
    "!mpiexec -n 2 python ../mpi3.py"
   ]
  },
  {
   "cell_type": "code",
   "execution_count": 86,
   "metadata": {
    "collapsed": false
   },
   "outputs": [
    {
     "name": "stdout",
     "output_type": "stream",
     "text": [
      "Overwriting ../mpi3_2.py\n"
     ]
    }
   ],
   "source": [
    "%%file ../mpi3_2.py\n",
    "import numpy\n",
    "from mpi4py import MPI\n",
    "comm = MPI.COMM_WORLD\n",
    "rank = comm.Get_rank()\n",
    "\n",
    "m = dict()    \n",
    "m['init'] = 1\n",
    "if rank == 0:\n",
    "        print(\"Process\", rank, \"before receiving has the number\", m)\n",
    "        m = comm.recv( source=1)\n",
    "        print(\"Process\", rank, \"received the number\", m)\n",
    "        m['hey'] = 'hi hi hi'\n",
    "        comm.send(m, dest=1)\n",
    "        m['just0'] = True\n",
    "        print(\"Process\", rank, \"finally received the number\", m)\n",
    "\n",
    "if rank == 1:\n",
    "        m['hi from 1'] = 'asdf'\n",
    "        print(\"Process\", rank, \"drew the number\", m)\n",
    "        comm.send(m, dest=0)\n",
    "        m = comm.recv( source=0)\n",
    "        m['just1'] = True\n",
    "        print(\"Process\", rank, \"now has the number\", m)"
   ]
  },
  {
   "cell_type": "code",
   "execution_count": 87,
   "metadata": {
    "collapsed": false
   },
   "outputs": [
    {
     "name": "stdout",
     "output_type": "stream",
     "text": [
      "Process 0 before receiving has the number {'init': 1}\r\n",
      "Process 1 drew the number {'hi from 1': 'asdf', 'init': 1}\r\n",
      "Process 0 received the number {'hi from 1': 'asdf', 'init': 1}\r\n",
      "Process 0 finally received the number {'hi from 1': 'asdf', 'just0': True, 'hey': 'hi hi hi', 'init': 1}\r\n",
      "Process 1 now has the number {'hey': 'hi hi hi', 'just1': True, 'init': 1, 'hi from 1': 'asdf'}\r\n"
     ]
    }
   ],
   "source": [
    "!mpiexec -n 2 python ../mpi3_2.py"
   ]
  },
  {
   "cell_type": "code",
   "execution_count": 82,
   "metadata": {
    "collapsed": false
   },
   "outputs": [
    {
     "name": "stdout",
     "output_type": "stream",
     "text": [
      "Writing ../mpi6.py\n"
     ]
    }
   ],
   "source": [
    "%%file ../mpi6.py\n",
    "import numpy\n",
    "from mpi4py import MPI\n",
    "comm = MPI.COMM_WORLD\n",
    "rank = comm.Get_rank()\n",
    "\n",
    "randNum = numpy.zeros(1)\n",
    "diffNum = numpy.random.random_sample(1)\n",
    "\n",
    "if rank == 1:\n",
    "        randNum = numpy.random.random_sample(1)\n",
    "        print(\"Process\", rank, \"drew the number\", randNum[0])\n",
    "        comm.Isend(randNum, dest=0) \n",
    "        # no need to wait after I send\n",
    "        req = comm.Irecv(randNum, source=0)\n",
    "        req.Wait()\n",
    "        print(\"Process\", rank, \"received the number\", randNum[0])\n",
    "        \n",
    "if rank == 0:\n",
    "        print(\"Process\", rank, \"before receiving has the number\", randNum[0])\n",
    "        req = comm.Irecv(randNum, source=1)\n",
    "        req.Wait()\n",
    "        print(\"Process\", rank, \"received the number\", randNum[0])\n",
    "        randNum *= 2\n",
    "        comm.Isend(randNum, dest=1)\n",
    "        # no need to wait after I send"
   ]
  },
  {
   "cell_type": "code",
   "execution_count": 83,
   "metadata": {
    "collapsed": false
   },
   "outputs": [
    {
     "name": "stdout",
     "output_type": "stream",
     "text": [
      "Process 0 before receiving has the number 0.0\r\n",
      "Process 1 drew the number 0.176685198743\r\n",
      "Process 0 received the number 0.176685198743\r\n",
      "Process 1 received the number 0.353370397487\r\n"
     ]
    }
   ],
   "source": [
    "!mpiexec -n 2 python ../mpi6.py"
   ]
  },
  {
   "cell_type": "code",
   "execution_count": 106,
   "metadata": {
    "collapsed": false
   },
   "outputs": [
    {
     "name": "stdout",
     "output_type": "stream",
     "text": [
      "Overwriting ../mpi7.py\n"
     ]
    }
   ],
   "source": [
    "%%file ../mpi7.py\n",
    "import numpy\n",
    "from mpi4py import MPI\n",
    "comm = MPI.COMM_WORLD\n",
    "rank = comm.Get_rank()\n",
    "\n",
    "unique_number = numpy.array(rank)\n",
    "\n",
    "\n",
    "if rank == 0:\n",
    "    print(\"Process\", rank, \"is alive\")\n",
    "\n",
    "    comm.Barrier()\n",
    "    print(\"Process\", rank, \"has passed Barrier\")\n",
    "\n",
    "    k = 0\n",
    "    for i in range(1, comm.Get_size()): #must not include self!\n",
    "        print(i)\n",
    "        k += comm.recv(source=i)\n",
    "    \n",
    "    print(\"Process\", rank, \"totalled the number\", k)\n",
    "\n",
    "    # no need to wait after I send\n",
    "if rank > 0 :\n",
    "    print(\"Process\", rank, \" is alive\")\n",
    "    comm.isend(unique_number, dest=0)\n",
    "    comm.Barrier()\n",
    "    print(\"Process\", rank, \"has sent number \", unique_number)\n",
    "    print(\"Process\", rank, \"has passed Barrier\")\n",
    "\n",
    "        \n"
   ]
  },
  {
   "cell_type": "code",
   "execution_count": 107,
   "metadata": {
    "collapsed": false
   },
   "outputs": [
    {
     "name": "stdout",
     "output_type": "stream",
     "text": [
      "Process 0 is alive\n",
      "Process 1  is alive\n",
      "Process 2  is alive\n",
      "Process 3  is alive\n",
      "Process 4  is alive\n",
      "Process 5  is alive\n",
      "Process 6  is alive\n",
      "Process 9  is alive\n",
      "Process 7  is alive\n",
      "Process 12  is alive\n",
      "Process 13  is alive\n",
      "Process 14  is alive\n",
      "Process 16  is alive\n",
      "Process 8  is alive\n",
      "Process 10  is alive\n",
      "Process 11  is alive\n",
      "Process 17  is alive\n",
      "Process 15  is alive\n",
      "Process 19  is alive\n",
      "Process 18  is alive\n",
      "Process 15 has sent number  15\n",
      "Process 15 has passed Barrier\n",
      "Process 16 has sent number  16\n",
      "Process 16 has passed Barrier\n",
      "Process 0 has passed Barrier\n",
      "1\n",
      "Process 3 has sent number  3\n",
      "Process 3 has passed Barrier\n",
      "Process 5 has sent number  5\n",
      "Process 5 has passed Barrier\n",
      "Process 12 has sent number  12\n",
      "Process 12 has passed Barrier\n",
      "Process 14 has sent number  14\n",
      "Process 14 has passed Barrier\n",
      "2\n",
      "3\n",
      "4\n",
      "5\n",
      "6\n",
      "7\n",
      "8\n",
      "9\n",
      "10\n",
      "11\n",
      "12\n",
      "13\n",
      "14\n",
      "15\n",
      "16\n",
      "17\n",
      "18\n",
      "19\n",
      "Process 0 totalled the number 190\n",
      "Process 11 has sent number  11\n",
      "Process 11 has passed Barrier\n",
      "Process 2 has sent number  2\n",
      "Process 2 has passed Barrier\n",
      "Process 1 has sent number  1\n",
      "Process 1 has passed Barrier\n",
      "Process 4 has sent number  4\n",
      "Process 4 has passed Barrier\n",
      "Process 6 has sent number  6\n",
      "Process 6 has passed Barrier\n",
      "Process 7 has sent number  7\n",
      "Process 7 has passed Barrier\n",
      "Process 8 has sent number  8\n",
      "Process 8 has passed Barrier\n",
      "Process 9 has sent number  9\n",
      "Process 9 has passed Barrier\n",
      "Process 10 has sent number  10\n",
      "Process 10 has passed Barrier\n",
      "Process 13 has sent number  13\n",
      "Process 13 has passed Barrier\n",
      "Process 17 has sent number  17\n",
      "Process 17 has passed Barrier\n",
      "Process 18 has sent number  18\n",
      "Process 18 has passed Barrier\n",
      "Process 19 has sent number  19\n",
      "Process 19 has passed Barrier\n"
     ]
    }
   ],
   "source": [
    "!mpiexec -n 20 python ../mpi7.py"
   ]
  },
  {
   "cell_type": "code",
   "execution_count": 92,
   "metadata": {
    "collapsed": false
   },
   "outputs": [
    {
     "data": {
      "text/plain": [
       "<mpi4py.MPI.Intracomm at 0x10d39ebf0>"
      ]
     },
     "execution_count": 92,
     "metadata": {},
     "output_type": "execute_result"
    }
   ],
   "source": [
    "#Comm.Scatter(self, sendbuf, recvbuf, int root=0)\n",
    "#recvobj = Comm.scatter(self, sendobj, int root=0)"
   ]
  },
  {
   "cell_type": "code",
   "execution_count": null,
   "metadata": {
    "collapsed": true
   },
   "outputs": [],
   "source": [
    "# it seems like 0 is hte master node, and all nodes (including 0 are worker nodes...)\n",
    "from mpi4py import MPI\n",
    "\n",
    "comm = MPI.COMM_WORLD\n",
    "size = comm.Get_size()\n",
    "rank = comm.Get_rank()\n",
    "\n",
    "if rank == 0:\n",
    "    data = [(i+1)**2 for i in range(size)]\n",
    "else:\n",
    "    data = None # worker node\n",
    "data = comm.scatter(data, root=0)\n",
    "# so, it does get sent to node 0 as well...which I HATE\n",
    "\n",
    "\n",
    "assert data == (rank+1)**2"
   ]
  },
  {
   "cell_type": "code",
   "execution_count": 118,
   "metadata": {
    "collapsed": false
   },
   "outputs": [
    {
     "name": "stdout",
     "output_type": "stream",
     "text": [
      "Overwriting ../mpi_integral.py\n"
     ]
    }
   ],
   "source": [
    "%%file ../mpi_integral.py\n",
    "import numpy\n",
    "from math import acos, cos\n",
    "from mpi4py import MPI\n",
    "comm = MPI.COMM_WORLD\n",
    "rank = comm.Get_rank()\n",
    "size = comm.Get_size()\n",
    "\n",
    "def integral(a_i, h, n):\n",
    "    integ = 0.0\n",
    "    for j in range(n):\n",
    "        a_ij = a_i + (j + 0.5) * h\n",
    "        integ += cos(a_ij) * h\n",
    "    return integ\n",
    "\n",
    "pi = 3.14159265359\n",
    "a = 0.0\n",
    "b = pi / 2.0\n",
    "dest = 0\n",
    "my_int = numpy.zeros(1)\n",
    "integral_sum = numpy.zeros(1)\n",
    "\n",
    "# Initialize value of n only if this is rank 0\n",
    "if rank == 0:\n",
    "    n = numpy.full(shape=1, fill_value=400, dtype=int) # default value\n",
    "else:\n",
    "    n = numpy.zeros(shape=1, dtype=int)\n",
    "\n",
    "# Broadcast n to all processes\n",
    "print(\"Process \", rank, \" before n = \", n[0])\n",
    "comm.Bcast(n, root=0)\n",
    "print(\"Process \", rank, \" after n = \", n[0])\n",
    "\n",
    "# Compute partition\n",
    "h = (b - a) / (n * size) # calculate h *after* we receive n\n",
    "a_i = a + rank * h * n\n",
    "my_int[0] = integral(a_i, h, n[0])\n",
    "\n",
    "# Send partition back to root process, computing sum across all partitions\n",
    "print(\"Process \", rank, \" has the partial integral \", my_int[0])\n",
    "comm.Reduce(my_int, integral_sum, MPI.SUM, dest)\n",
    "\n",
    "# Only print the result in process 0\n",
    "if rank == 0:\n",
    "    print('The Integral Sum =', integral_sum[0])"
   ]
  },
  {
   "cell_type": "code",
   "execution_count": 117,
   "metadata": {
    "collapsed": false
   },
   "outputs": [
    {
     "name": "stdout",
     "output_type": "stream",
     "text": [
      "Process  0  before n =  400\r\n",
      "Process  1  before n =  0\r\n",
      "Process  2  before n =  0\r\n",
      "Process  4  before n =  0\r\n",
      "Process  5  before n =  0\r\n",
      "Process  0  after n =  400\r\n",
      "Process  3  before n =  0\r\n",
      "Process  3  after n =  400\r\n",
      "Process  6  before n =  0\r\n",
      "Process  7  before n =  0\r\n",
      "Process  7  after n =  400\r\n",
      "Process  8  before n =  0\r\n",
      "Process  8  after n =  400\r\n",
      "Process  9  before n =  0\r\n",
      "Process  9  after n =  400\r\n",
      "Process  0  has the partial integral  0.156434466045\r\n",
      "Process  1  after n =  400\r\n",
      "Process  2  after n =  400\r\n",
      "Process  1  has the partial integral  0.152582530315\r\n",
      "Process  2  has the partial integral  0.144973506296\r\n",
      "Process  4  after n =  400\r\n",
      "Process  8  has the partial integral  0.0366318245354\r\n",
      "Process  5  after n =  400\r\n",
      "Process  5  has the partial integral  0.101910213843\r\n",
      "Process  6  after n =  400\r\n",
      "Process  6  has the partial integral  0.0819895303402\r\n",
      "Process  7  has the partial integral  0.0600499924926\r\n",
      "Process  9  has the partial integral  0.012311659484\r\n",
      "Process  3  has the partial integral  0.133794753413\r\n",
      "Process  4  has the partial integral  0.119321529661\r\n",
      "The Integral Sum = 1.00000000643\r\n"
     ]
    }
   ],
   "source": [
    "!mpiexec -n 10 python ../mpi_integral.py"
   ]
  },
  {
   "cell_type": "code",
   "execution_count": null,
   "metadata": {
    "collapsed": true
   },
   "outputs": [],
   "source": []
  },
  {
   "cell_type": "code",
   "execution_count": null,
   "metadata": {
    "collapsed": true
   },
   "outputs": [],
   "source": []
  },
  {
   "cell_type": "markdown",
   "metadata": {},
   "source": [
    "http://mpi4py.readthedocs.io/en/latest/tutorial.html\n",
    "\n",
    "Slightly different syntax.\n",
    "\n",
    "Can use numpy arrays as a buffer\n",
    "- faster\n",
    "- must use capital Send and Recv\n",
    "\n",
    "Can use generic objects\n",
    "- slower\n",
    "- must use lowercase Send and Recv\n",
    "- m = comm.recv(source=1)"
   ]
  },
  {
   "cell_type": "markdown",
   "metadata": {},
   "source": [
    "## Question 1\n",
    "Write an MPI program in which the processes with even rank print “Hello” and the processes with odd rank print “Goodbye”. Print the rank along with the message (for example “Goodbye from process 3”). Hint: remember that although the number of processes is fixed when the program starts, the exact number is not known until the Get_size() method is called.\n",
    "\n",
    "Make sure you have adequate comments and documentation in the code, and you follow good software engineering practices.\n",
    "\n",
    "Call the program mpi_assignment_1.py and commit it to the same repository you used for Assignment 3."
   ]
  },
  {
   "cell_type": "code",
   "execution_count": null,
   "metadata": {
    "collapsed": true
   },
   "outputs": [],
   "source": [
    "import numpy\n",
    "from math import acos, cos\n",
    "from mpi4py import MPI\n",
    "comm = MPI.COMM_WORLD\n",
    "rank = comm.Get_rank()\n",
    "size = comm.Get_size()"
   ]
  },
  {
   "cell_type": "code",
   "execution_count": 128,
   "metadata": {
    "collapsed": false
   },
   "outputs": [
    {
     "name": "stdout",
     "output_type": "stream",
     "text": [
      "Overwriting mpi_assignment_1.py\n"
     ]
    }
   ],
   "source": [
    "%%file mpi_assignment_1.py\n",
    "import numpy as np\n",
    "from mpi4py import MPI\n",
    "\n",
    "# learn about COMM environment\n",
    "comm = MPI.COMM_WORLD\n",
    "rank = comm.Get_rank()\n",
    "size = comm.Get_size()\n",
    "\n",
    "# determine the parity of the rank\n",
    "odd_rank = (rank % 2) == 1\n",
    "\n",
    "# print\n",
    "if odd_rank:\n",
    "    print(\"Hello from process \", rank)\n",
    "else: \n",
    "    print(\"Goodbye from process \", rank)"
   ]
  },
  {
   "cell_type": "code",
   "execution_count": 129,
   "metadata": {
    "collapsed": false
   },
   "outputs": [
    {
     "name": "stdout",
     "output_type": "stream",
     "text": [
      "Hello from process  1\r\n",
      "Goodbye from process  2\r\n",
      "Goodbye from process  4\r\n",
      "Hello from process  3\r\n",
      "Goodbye from process  0\r\n"
     ]
    }
   ],
   "source": [
    "!mpiexec -n 5 python mpi_assignment_1.py"
   ]
  },
  {
   "cell_type": "markdown",
   "metadata": {},
   "source": [
    "## Question 2\n",
    "\n",
    "Write an MPI program that does the following for some arbitrary number of processes:\n",
    "\n",
    "1. Process 0 reads a value from the user and verifies that it is an integer less than 100.\n",
    "2. Process 0 sends the value to process 1 which multiplies it by its rank.\n",
    "3. Process 1 sends the new value to process 2 which multiplies it by its rank.\n",
    "4. This continues for each process, such that process i sends the value to process i+1 which multiplies it by i+1.\n",
    "5. The last process sends the value back to process 0, which prints the result.\n",
    "\n",
    "\n",
    "You can use either blocking or non-blocking operations. Any input read from the user must be validated correctly and exceptions handled. Make sure you have adequate comments and documentation in the code, and you follow good software engineering practices.\n",
    "\n",
    "Call the program mpi_assignment_2.py and commit it to the same repository you used for Assignment 3."
   ]
  },
  {
   "cell_type": "code",
   "execution_count": 173,
   "metadata": {
    "collapsed": false
   },
   "outputs": [
    {
     "name": "stdout",
     "output_type": "stream",
     "text": [
      "Overwriting mpi_assignment_2.py\n"
     ]
    }
   ],
   "source": [
    "%%file mpi_assignment_2.py\n",
    "from mpi4py import MPI\n",
    "comm = MPI.COMM_WORLD\n",
    "size = comm.Get_size()\n",
    "rank = comm.Get_rank()\n",
    "\n",
    "if size < 2:\n",
    "    print(\"Program was expecting more ranks.  It will do it's best and just return your input.\")\n",
    "\n",
    "if rank == 0:\n",
    "    \n",
    "    # get the user input\n",
    "    def is_integer_less_than_100(x):\n",
    "        try:\n",
    "            return float(x) == int(x) and int(x)<100\n",
    "        except:\n",
    "            return False\n",
    "\n",
    "    user_integer = input('Enter an integer less than 100: ')\n",
    "    while not is_integer_less_than_100(user_integer):\n",
    "        print(\"Not a valid integer less than 100\")\n",
    "        user_integer = input('Enter an integer less than 100: ')\n",
    "    current_integer = int(user_integer)\n",
    "    \n",
    "    if size > 1:\n",
    "        # send it to process 1\n",
    "        comm.isend(current_integer, dest=1)\n",
    "\n",
    "        # get the final answer and print it\n",
    "        current_integer = comm.recv(source=size-1)\n",
    "    print(current_integer)\n",
    "    \n",
    "if rank >= 1:\n",
    "    current_integer = comm.recv(source=rank-1)\n",
    "    current_integer *= rank\n",
    "    if rank == size -1:\n",
    "        comm.isend(current_integer, dest=0)\n",
    "    else: \n",
    "        comm.isend(current_integer, dest=rank + 1)"
   ]
  },
  {
   "cell_type": "code",
   "execution_count": 180,
   "metadata": {
    "collapsed": false
   },
   "outputs": [
    {
     "name": "stdout",
     "output_type": "stream",
     "text": [
      "Overwriting mpi_assignment_2.py\n"
     ]
    }
   ],
   "source": [
    "%%file mpi_assignment_2.py\n",
    "from numpy import empty\n",
    "from mpi4py import MPI\n",
    "comm = MPI.COMM_WORLD\n",
    "size = comm.Get_size()\n",
    "rank = comm.Get_rank()\n",
    "\n",
    "current_integer = empty(1, dtype=int)\n",
    "\n",
    "if size < 2:\n",
    "    print(\"Program was expecting more ranks.  It will do it's best and just return your input.\")\n",
    "\n",
    "if rank == 0:\n",
    "    \n",
    "    # get the user input\n",
    "    def is_integer_less_than_100(x):\n",
    "        try:\n",
    "            return float(x) == int(x) and int(x)<100\n",
    "        except:\n",
    "            return False\n",
    "\n",
    "    user_integer = input('Enter an integer less than 100: ')\n",
    "    while not is_integer_less_than_100(user_integer):\n",
    "        print(\"Not a valid integer less than 100\")\n",
    "        user_integer = input('Enter an integer less than 100: ')\n",
    "    current_integer[0] = int(user_integer)\n",
    "    \n",
    "    if size > 1:\n",
    "        # send it to process 1\n",
    "        comm.Send(current_integer, dest=1)\n",
    "\n",
    "        # get the final answer and print it\n",
    "        comm.Recv(current_integer, source=size-1)\n",
    "    print(current_integer[0])\n",
    "    \n",
    "if rank >= 1:\n",
    "    comm.Recv(current_integer, source=rank-1)\n",
    "    current_integer *= rank\n",
    "    if rank == size -1:\n",
    "        comm.Isend(current_integer, dest=0)\n",
    "    else: \n",
    "        comm.Isend(current_integer, dest=rank + 1)"
   ]
  },
  {
   "cell_type": "code",
   "execution_count": null,
   "metadata": {
    "collapsed": false
   },
   "outputs": [
    {
     "name": "stdout",
     "output_type": "stream",
     "text": [
      "Enter an integer less than 100: "
     ]
    }
   ],
   "source": [
    "!mpiexec -n 2 python mpi_assignment_2.py"
   ]
  },
  {
   "cell_type": "code",
   "execution_count": 155,
   "metadata": {
    "collapsed": false
   },
   "outputs": [
    {
     "data": {
      "text/plain": [
       "'/Users/akunas/Documents/advpython/assignments/ark520_assignment3'"
      ]
     },
     "execution_count": 155,
     "metadata": {},
     "output_type": "execute_result"
    }
   ],
   "source": [
    "pwd()"
   ]
  },
  {
   "cell_type": "code",
   "execution_count": 149,
   "metadata": {
    "collapsed": false
   },
   "outputs": [
    {
     "name": "stdout",
     "output_type": "stream",
     "text": [
      "What is your name? 4\n"
     ]
    }
   ],
   "source": [
    "\n",
    "def is_integer_less_than_100(x):\n",
    "    try:\n",
    "        return float(x) == int(x) and int(x)<100\n",
    "    except:\n",
    "        return False\n",
    "    \n",
    "user_integer = input('Enter an integer less than 100: ')\n",
    "while not is_integer_less_than_100(user_integer):\n",
    "    print(\"Not a valid integer less than 100\")\n",
    "    user_integer = input('Enter an integer less than 100: ')\n"
   ]
  },
  {
   "cell_type": "code",
   "execution_count": 150,
   "metadata": {
    "collapsed": false
   },
   "outputs": [
    {
     "ename": "SyntaxError",
     "evalue": "invalid syntax (<ipython-input-150-9e853352b6a8>, line 1)",
     "output_type": "error",
     "traceback": [
      "\u001b[0;36m  File \u001b[0;32m\"<ipython-input-150-9e853352b6a8>\"\u001b[0;36m, line \u001b[0;32m1\u001b[0m\n\u001b[0;31m    def a(int b):\u001b[0m\n\u001b[0m              ^\u001b[0m\n\u001b[0;31mSyntaxError\u001b[0m\u001b[0;31m:\u001b[0m invalid syntax\n"
     ]
    }
   ],
   "source": [
    "def a(int b):\n",
    "    return b"
   ]
  },
  {
   "cell_type": "code",
   "execution_count": 144,
   "metadata": {
    "collapsed": false
   },
   "outputs": [
    {
     "data": {
      "text/plain": [
       "False"
      ]
     },
     "execution_count": 144,
     "metadata": {},
     "output_type": "execute_result"
    }
   ],
   "source": [
    "0==None"
   ]
  },
  {
   "cell_type": "code",
   "execution_count": 164,
   "metadata": {
    "collapsed": false
   },
   "outputs": [
    {
     "data": {
      "text/plain": [
       "100"
      ]
     },
     "execution_count": 164,
     "metadata": {},
     "output_type": "execute_result"
    }
   ],
   "source": [
    "10*10"
   ]
  },
  {
   "cell_type": "code",
   "execution_count": null,
   "metadata": {
    "collapsed": true
   },
   "outputs": [],
   "source": []
  }
 ],
 "metadata": {
  "kernelspec": {
   "display_name": "Python 3",
   "language": "python",
   "name": "python3"
  },
  "language_info": {
   "codemirror_mode": {
    "name": "ipython",
    "version": 3
   },
   "file_extension": ".py",
   "mimetype": "text/x-python",
   "name": "python",
   "nbconvert_exporter": "python",
   "pygments_lexer": "ipython3",
   "version": "3.5.2"
  }
 },
 "nbformat": 4,
 "nbformat_minor": 2
}
